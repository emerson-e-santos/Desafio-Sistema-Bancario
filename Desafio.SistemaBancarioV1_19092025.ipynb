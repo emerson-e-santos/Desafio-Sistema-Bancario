{
 "cells": [
  {
   "cell_type": "markdown",
   "id": "496b3562",
   "metadata": {},
   "source": [
    "### Premissas do projeto\n",
    "\n",
    "#### 3 operações: depósito, saque e extrato\n",
    "\n",
    "### DEPÓSITO\n",
    "\n",
    "#### Depósito de valores positivos e armazenar em 1 variável e exibidos na operação de extrato\n",
    "\n",
    "### SAQUE\n",
    "\n",
    "#### 3 saques diários com limite máximo de 500 por saque. Exibir mensagem caso sem saldo.\n",
    "#### Todos os saques devem ser armazenados em uma variável e exibidos na operação de extrato.\n",
    "\n",
    "### EXTRATO\n",
    "\n",
    "#### Listar todos os depósitos e saques. Exibir o saldo atual no fim da listagem. Se em branco, exibir mensagem \"Não foram realizadas movimentações\"\n",
    "\n",
    "### CONSIDERAÇÕES GERAIS\n",
    "\n",
    "#### Utilizar formato de moeda para mostrar os valores."
   ]
  },
  {
   "cell_type": "code",
   "execution_count": 4,
   "id": "155c5539",
   "metadata": {},
   "outputs": [
    {
     "name": "stdout",
     "output_type": "stream",
     "text": [
      "Iniciado operação de depósito\n",
      "Depósito de R$ 100000.0 realizado com sucesso.\n",
      "Iniciado operação de saque\n",
      "Saque de R$ 100.0 realizado com sucesso. \n",
      " Número de saques: 1 de 3\n",
      "Saque de R$ 100.0 realizado com sucesso. \n",
      " Número de saques: 2 de 3\n",
      "Saque de R$ 100.0 realizado com sucesso. \n",
      " Número de saques: 3 de 3\n",
      "Depósito de R$ 100000.0 realizado.\n",
      "Saque de R$ 100.0 realizado.\n",
      "Saque de R$ 100.0 realizado.\n",
      "Saque de R$ 100.0 realizado.\n",
      "\n",
      "Saldo: R$ 99700.0\n",
      "Volte sempre\n"
     ]
    }
   ],
   "source": [
    "menu = \"\"\"\n",
    "\n",
    "[d] Depositar\n",
    "[s] Sacar\n",
    "[e] Extrato\n",
    "[q] Sair\n",
    "\n",
    "=> \"\"\"\n",
    "\n",
    "saldo = 0\n",
    "limite = 500\n",
    "extrato = \"\"\n",
    "numero_saques = 0\n",
    "LIMITE_SAQUES = 3\n",
    "\n",
    "while True:\n",
    "\n",
    "    opcao = input(menu)\n",
    "\n",
    "    if opcao == \"d\":\n",
    "        print(\"Iniciado operação de depósito\")\n",
    "        saldo_aux = float(input(\"Informe o valor do depósito:\"))   \n",
    "        if saldo_aux > 0:\n",
    "            saldo += saldo_aux\n",
    "            print(f\"Depósito de R$ {saldo_aux} realizado com sucesso.\")\n",
    "            extrato += f\"Depósito de R$ {saldo_aux} realizado.\\n\"\n",
    "        else:\n",
    "            print(\"Operação falhou! O valor informado é inválido.\")\n",
    "    elif opcao == \"s\":\n",
    "        print(\"Iniciado operação de saque\")\n",
    "        while numero_saques < 3:\n",
    "            saque = float(input(\"Informe o valor do saque:\"))  \n",
    "            if saque <= limite:\n",
    "                if (saldo - saque) > 0:\n",
    "                    saldo -= saque\n",
    "                    extrato += f\"Saque de R$ {saque} realizado.\\n\"\n",
    "                    numero_saques += 1\n",
    "                    print(f\"Saque de R$ {saque} realizado com sucesso. \\n Número de saques: {numero_saques} de 3\")\n",
    "                else:\n",
    "                    print(\"Saldo insuficiente.\")\n",
    "            else:\n",
    "                print(\"Limite de valor por saque excedido.\\n Insira um valor válido.\") \n",
    "    elif opcao == \"e\":\n",
    "        if extrato == \"\":\n",
    "            print(\"Não foram realizadas movimentações.\")\n",
    "        else:\n",
    "            print(extrato)\n",
    "            print(f\"Saldo: R$ {saldo}\")         \n",
    "    elif opcao == \"q\":\n",
    "        print(\"Volte sempre\")\n",
    "        break\n",
    "\n",
    "    else:\n",
    "        print(\"Operação inválida, por favor selecione novamente a operação desejada.\")"
   ]
  }
 ],
 "metadata": {
  "kernelspec": {
   "display_name": "base",
   "language": "python",
   "name": "python3"
  },
  "language_info": {
   "codemirror_mode": {
    "name": "ipython",
    "version": 3
   },
   "file_extension": ".py",
   "mimetype": "text/x-python",
   "name": "python",
   "nbconvert_exporter": "python",
   "pygments_lexer": "ipython3",
   "version": "3.12.4"
  }
 },
 "nbformat": 4,
 "nbformat_minor": 5
}
